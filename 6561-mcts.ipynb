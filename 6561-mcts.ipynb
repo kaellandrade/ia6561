{
 "cells": [
  {
   "cell_type": "code",
   "execution_count": 36,
   "outputs": [],
   "source": [
    "import sys\n",
    "import random\n",
    "from colorama import Back, Style\n",
    "\n",
    "# Funções utils\n",
    "def gerarCordenadas(n=5):\n",
    "    cordenadas = []\n",
    "    for linha in range(1, n):\n",
    "        for coluna in range(1, n):\n",
    "            cordenadas.append(linha * 10 + coluna)\n",
    "    return cordenadas\n",
    "\n",
    "cores = {\n",
    "    'azul': Back.BLUE,\n",
    "    'vermelho': Back.RED,\n",
    "    'cinza': Back.BLACK,\n",
    "    'branco': Back.WHITE\n",
    "}\n",
    "VALOR_INICIAL_NO = 1 # Valor que irá ser dado em cada rodada\n",
    "VALORES_INICIAIS_NO = [1,3,9,27, None] # Lista para criar o tabuleiro\n",
    "\n",
    "# Todo: implemntar depois as funções de giro na classe Tabuleiro.\n",
    "MOVIMENTOS_DO_JOGO = {\n",
    "    'D': lambda  : 'GIRAR PARA BAIXO',\n",
    "    'R': lambda  : 'GIRAR PARA DIREITA',\n",
    "    'L': lambda  : 'GIRAR PARA ESQUERDA',\n",
    "    'U': lambda  : 'GIRAR PARA CIMA'\n",
    "}\n",
    "RITMO_DO_JOGO = ['azul', 'vermelho', 'cinza', 'deslizar', 'deslizar']\n",
    "CORDENADAS_TABULEIRO = gerarCordenadas(5)"
   ],
   "metadata": {
    "collapsed": false
   }
  },
  {
   "cell_type": "code",
   "execution_count": null,
   "metadata": {
    "collapsed": true
   },
   "outputs": [],
   "source": [
    "class No:\n",
    "    valor = None\n",
    "    cor = 'branco'\n",
    "    score = 0\n",
    "    def __init__(self, valor=None, cor='branco'):\n",
    "        self.valor = valor\n",
    "        self.cor = cor\n",
    "\n",
    "    def __str__(self):\n",
    "        if self.valor:\n",
    "            return '{:0>2}'.format(str(self.valor))\n",
    "        return '  '\n",
    "my_list = []\n",
    "for dezena in [1, 2]:\n",
    "    for unidade in range(1, 5):\n",
    "        my_list.append(dezena * 10 + unidade)"
   ]
  },
  {
   "cell_type": "code",
   "execution_count": null,
   "outputs": [],
   "source": [
    "class Tabuleiro:\n",
    "    matriz = []\n",
    "    dimensao = 4\n",
    "    def __init__(self, dimensao=4):\n",
    "        self.dimensao = dimensao\n",
    "        self._iniciarTabuleiro(dimensao)\n",
    "\n",
    "\n",
    "    def _iniciarTabuleiro(self, n):\n",
    "        for i in range(n):\n",
    "            linha = []\n",
    "            for j in range(n):\n",
    "                novo_no = No()\n",
    "                linha.append(novo_no)\n",
    "            self.matriz.append(linha)\n",
    "\n",
    "\n",
    "    def printTabuleiro(self,):\n",
    "        for linha in self.matriz:\n",
    "            for elemento in linha:\n",
    "                cor = cores[elemento.cor]\n",
    "                print(cor + str(elemento) + Style.RESET_ALL, end=' ')\n",
    "            print()\n",
    "\n",
    "    def inserirNoPorCoordenada(self, coordenda, cor, valor):\n",
    "        pass #TODO...\n",
    "\n",
    "    def getNoPorCoordenadas(self, coordenda):\n",
    "        pass #TODO fazer split da coordenda em string e subtrair 1\n",
    "\n",
    "    def hasPosicaoVazio(self, coordenda):\n",
    "        pass #TODO: Retorna true se o nó estiver vazio. (utilizar a função getNoPorCoordenadas())\n"
   ],
   "metadata": {
    "collapsed": false
   }
  },
  {
   "cell_type": "code",
   "execution_count": null,
   "outputs": [],
   "source": [
    "class Game:\n",
    "    rodada = 1\n",
    "    tabuleiro = Tabuleiro()\n",
    "    # TODO: Continuar logica aleatória do servidor.\n",
    "    def __int__(self):\n",
    "        entrada = sys.stdin.readline()\n",
    "        if entrada.strip() == \"A\":\n",
    "            while(True):\n",
    "                if self._getAcaoPorRodada() != 'deslizar':\n",
    "                    cordenada = self._getCordenadaAleatoria()\n",
    "                    sys.stdout.write(cordenada) # TODO: Revisar isso\n",
    "                else:\n",
    "                    comandoDeDeslize = random.choice(list(MOVIMENTOS_DO_JOGO.keys()))\n",
    "                    sys.stdout.write(comandoDeDeslize)\n",
    "                self.rodada += 1\n",
    "                entrada = sys.stdin.readline()\n",
    "\n",
    "\n",
    "\n",
    "    def _getAcaoPorRodada(self):\n",
    "        return RITMO_DO_JOGO[(self.rodada - 1) % len(RITMO_DO_JOGO)]\n",
    "\n",
    "    def _getCordenadaAleatoria(self):\n",
    "        random.choice(CORDENADAS_TABULEIRO)\n",
    "\n",
    "\n",
    "\n",
    "\n"
   ],
   "metadata": {
    "collapsed": false
   }
  },
  {
   "cell_type": "code",
   "execution_count": null,
   "outputs": [],
   "source": [
    "#!/usr/bin/env python3\n",
    "if __name__ == \"__main__\":\n",
    "    # TODO: Aqui o jogo será iniciado...\n",
    "\n"
   ],
   "metadata": {
    "collapsed": false
   }
  },
  {
   "cell_type": "code",
   "execution_count": null,
   "outputs": [],
   "source": [
    "tabuleiro = Tabuleiro()\n",
    "tabuleiro.printTabuleiro()"
   ],
   "metadata": {
    "collapsed": false
   }
  }
 ],
 "metadata": {
  "kernelspec": {
   "display_name": "Python 3",
   "language": "python",
   "name": "python3"
  },
  "language_info": {
   "codemirror_mode": {
    "name": "ipython",
    "version": 2
   },
   "file_extension": ".py",
   "mimetype": "text/x-python",
   "name": "python",
   "nbconvert_exporter": "python",
   "pygments_lexer": "ipython2",
   "version": "2.7.6"
  }
 },
 "nbformat": 4,
 "nbformat_minor": 0
}
