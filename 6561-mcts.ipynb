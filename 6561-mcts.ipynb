{
 "cells": [
  {
   "cell_type": "code",
   "execution_count": 25,
   "outputs": [],
   "source": [
    "import random\n",
    "import seaborn as sns\n",
    "import matplotlib.pyplot as plt\n",
    "\n",
    "cores = ['cinza','vermelho', 'azul']\n",
    "VALOR_INICIAL_NO = 1 # Valor que irá ser dado em cada rodada\n",
    "VALORES_INICIAIS_NO = [1, None] # Lista para criar o tabuleiro"
   ],
   "metadata": {
    "collapsed": false
   }
  },
  {
   "cell_type": "code",
   "execution_count": 86,
   "metadata": {
    "collapsed": true
   },
   "outputs": [],
   "source": [
    "class No:\n",
    "    valor = None\n",
    "    cor = None\n",
    "    score = 0\n",
    "    def __init__(self, valor=None, cor=None):\n",
    "        self.valor = valor\n",
    "        self.cor = cor\n",
    "\n",
    "    def __float__(self):\n",
    "        if self.valor:\n",
    "            return self.valor"
   ]
  },
  {
   "cell_type": "code",
   "execution_count": 89,
   "outputs": [],
   "source": [
    "class Tabuleiro:\n",
    "    matriz = []\n",
    "    dimensao = 4\n",
    "    def __init__(self, dimensao=4):\n",
    "        self.dimensao = dimensao\n",
    "        self._criarTabuleiro(dimensao)\n",
    "\n",
    "\n",
    "    def _criarTabuleiro(self, n):\n",
    "        for i in range(n):\n",
    "            linha = []\n",
    "            for j in range(n):\n",
    "                novo_no = No()\n",
    "                valor_novo_no = random.choice(VALORES_INICIAIS_NO)\n",
    "                if valor_novo_no:\n",
    "                    cor_aleatoria = random.choice(cores)\n",
    "                    novo_no = No(valor_novo_no, cor_aleatoria)\n",
    "\n",
    "                linha.append(novo_no)\n",
    "            self.matriz.append(linha)\n",
    "\n",
    "    # TODO: Fazer...\n",
    "    def printTabuleiro(self,):\n",
    "        print(self.matriz)"
   ],
   "metadata": {
    "collapsed": false
   }
  },
  {
   "cell_type": "code",
   "execution_count": 88,
   "outputs": [
    {
     "name": "stdout",
     "output_type": "stream",
     "text": [
      "[[<__main__.No object at 0x7f72093f6b90>, <__main__.No object at 0x7f72093f6ec0>, <__main__.No object at 0x7f72093f7130>, <__main__.No object at 0x7f72093f6380>], [<__main__.No object at 0x7f72093f4f10>, <__main__.No object at 0x7f72093f5840>, <__main__.No object at 0x7f72093f71f0>, <__main__.No object at 0x7f72093f7700>], [<__main__.No object at 0x7f72093f78b0>, <__main__.No object at 0x7f72093f7670>, <__main__.No object at 0x7f72093f5c90>, <__main__.No object at 0x7f72093f6fe0>], [<__main__.No object at 0x7f72093f5690>, <__main__.No object at 0x7f72093f7040>, <__main__.No object at 0x7f72093f4a30>, <__main__.No object at 0x7f72093f4910>]]\n"
     ]
    }
   ],
   "source": [
    "tabuleiro = Tabuleiro()\n",
    "tabuleiro.printTabuleiro()"
   ],
   "metadata": {
    "collapsed": false
   }
  },
  {
   "cell_type": "code",
   "execution_count": null,
   "outputs": [],
   "source": [],
   "metadata": {
    "collapsed": false
   }
  }
 ],
 "metadata": {
  "kernelspec": {
   "display_name": "Python 3",
   "language": "python",
   "name": "python3"
  },
  "language_info": {
   "codemirror_mode": {
    "name": "ipython",
    "version": 2
   },
   "file_extension": ".py",
   "mimetype": "text/x-python",
   "name": "python",
   "nbconvert_exporter": "python",
   "pygments_lexer": "ipython2",
   "version": "2.7.6"
  }
 },
 "nbformat": 4,
 "nbformat_minor": 0
}
