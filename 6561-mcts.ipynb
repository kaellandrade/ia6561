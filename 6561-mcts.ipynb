{
 "cells": [
  {
   "cell_type": "code",
   "execution_count": 869,
   "outputs": [],
   "source": [
    "import random\n",
    "from colorama import Back, Style\n",
    "cores = {\n",
    "    'azul': Back.BLUE,\n",
    "    'vermelho': Back.RED,\n",
    "    'cinza': Back.BLACK,\n",
    "    'branco': Back.WHITE\n",
    "}\n",
    "VALOR_INICIAL_NO = 1 # Valor que irá ser dado em cada rodada\n",
    "VALORES_INICIAIS_NO = [1, None] # Lista para criar o tabuleiro"
   ],
   "metadata": {
    "collapsed": false
   }
  },
  {
   "cell_type": "code",
   "execution_count": 870,
   "metadata": {
    "collapsed": true
   },
   "outputs": [],
   "source": [
    "class No:\n",
    "    valor = None\n",
    "    cor = 'branco'\n",
    "    score = 0\n",
    "    def __init__(self, valor=None, cor='branco'):\n",
    "        self.valor = valor\n",
    "        self.cor = cor\n",
    "\n",
    "    def __str__(self):\n",
    "        if self.valor:\n",
    "            return '{:0>2}'.format(str(self.valor))\n",
    "        return '  '\n"
   ]
  },
  {
   "cell_type": "code",
   "execution_count": 871,
   "outputs": [],
   "source": [
    "class Tabuleiro:\n",
    "    matriz = []\n",
    "    dimensao = 4\n",
    "    def __init__(self, dimensao=4):\n",
    "        self.dimensao = dimensao\n",
    "        self._criarTabuleiro(dimensao)\n",
    "\n",
    "\n",
    "    def _criarTabuleiro(self, n):\n",
    "        for i in range(n):\n",
    "            linha = []\n",
    "            for j in range(n):\n",
    "                novo_no = No()\n",
    "                valor_novo_no = random.choice(VALORES_INICIAIS_NO)\n",
    "                if valor_novo_no:\n",
    "                    cor_aleatoria = random.choice(list(filter(lambda cor : cor != 'branco', cores.keys())))\n",
    "                    novo_no = No(valor_novo_no, cor_aleatoria)\n",
    "\n",
    "                linha.append(novo_no)\n",
    "            self.matriz.append(linha)\n",
    "\n",
    "\n",
    "    def printTabuleiro(self,):\n",
    "        for linha in self.matriz:\n",
    "            for elemento in linha:\n",
    "                cor = cores[elemento.cor]\n",
    "                print(cor + str(elemento) + Style.RESET_ALL, end=' ')\n",
    "            print()"
   ],
   "metadata": {
    "collapsed": false
   }
  },
  {
   "cell_type": "code",
   "execution_count": 872,
   "outputs": [
    {
     "name": "stdout",
     "output_type": "stream",
     "text": [
      "\u001B[47m  \u001B[0m \u001B[41m01\u001B[0m \u001B[47m  \u001B[0m \u001B[47m  \u001B[0m \n",
      "\u001B[47m  \u001B[0m \u001B[47m  \u001B[0m \u001B[41m01\u001B[0m \u001B[47m  \u001B[0m \n",
      "\u001B[44m01\u001B[0m \u001B[41m01\u001B[0m \u001B[47m  \u001B[0m \u001B[44m01\u001B[0m \n",
      "\u001B[41m01\u001B[0m \u001B[41m01\u001B[0m \u001B[47m  \u001B[0m \u001B[44m01\u001B[0m \n"
     ]
    }
   ],
   "source": [
    "tabuleiro = Tabuleiro()\n",
    "tabuleiro.printTabuleiro()"
   ],
   "metadata": {
    "collapsed": false
   }
  }
 ],
 "metadata": {
  "kernelspec": {
   "display_name": "Python 3",
   "language": "python",
   "name": "python3"
  },
  "language_info": {
   "codemirror_mode": {
    "name": "ipython",
    "version": 2
   },
   "file_extension": ".py",
   "mimetype": "text/x-python",
   "name": "python",
   "nbconvert_exporter": "python",
   "pygments_lexer": "ipython2",
   "version": "2.7.6"
  }
 },
 "nbformat": 4,
 "nbformat_minor": 0
}
