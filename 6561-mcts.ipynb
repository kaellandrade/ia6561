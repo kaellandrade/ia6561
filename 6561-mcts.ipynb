{
 "cells": [
  {
   "cell_type": "code",
   "execution_count": 2,
   "metadata": {},
   "outputs": [],
   "source": [
    "import sys\n",
    "import random\n",
    "from colorama import Back, Style\n",
    "\n",
    "# Funções utils\n",
    "def gerarCordenadas(n=5):\n",
    "    cordenadas = []\n",
    "    for linha in range(1, n):\n",
    "        for coluna in range(1, n):\n",
    "            cordenadas.append(linha * 10 + coluna)\n",
    "    return cordenadas\n",
    "\n",
    "cores = {\n",
    "    'azul': Back.BLUE,\n",
    "    'vermelho': Back.RED,\n",
    "    'cinza': Back.BLACK,\n",
    "    'branco': Back.WHITE\n",
    "}\n",
    "VALOR_INICIAL_NO = 1 # Valor que irá ser dado em cada rodada\n",
    "VALORES_INICIAIS_NO = [1,3,9,27, None] # Lista para criar o tabuleiro\n",
    "\n",
    "# Todo: implemntar depois as funções de giro na classe Tabuleiro.\n",
    "MOVIMENTOS_DO_JOGO = {\n",
    "    'D': lambda  : 'GIRAR PARA BAIXO',\n",
    "    'R': lambda  : 'GIRAR PARA DIREITA',\n",
    "    'L': lambda  : 'GIRAR PARA ESQUERDA',\n",
    "    'U': lambda  : 'GIRAR PARA CIMA'\n",
    "}\n",
    "RITMO_DO_JOGO = ['azul', 'vermelho', 'cinza', 'deslizar', 'deslizar']\n",
    "CORDENADAS_TABULEIRO = gerarCordenadas(5)"
   ]
  },
  {
   "cell_type": "code",
   "execution_count": 3,
   "metadata": {
    "collapsed": true
   },
   "outputs": [],
   "source": [
    "class No:\n",
    "    valor = None\n",
    "    cor = 'branco'\n",
    "    score = 0\n",
    "    def __init__(self, valor=None, cor='branco'):\n",
    "        self.valor = valor\n",
    "        self.cor = cor\n",
    "\n",
    "    def __str__(self):\n",
    "        if self.valor:\n",
    "            return '{:0>2}'.format(str(self.valor))\n",
    "        return '  '\n",
    "my_list = []\n",
    "for dezena in [1, 2]:\n",
    "    for unidade in range(1, 5):\n",
    "        my_list.append(dezena * 10 + unidade)"
   ]
  },
  {
   "cell_type": "code",
   "execution_count": 4,
   "metadata": {},
   "outputs": [],
   "source": [
    "class Tabuleiro:\n",
    "    matriz = []\n",
    "    dimensao = 4\n",
    "    def __init__(self, dimensao=4):\n",
    "        self.dimensao = dimensao\n",
    "        self._iniciarTabuleiro(dimensao)\n",
    "\n",
    "\n",
    "    def _iniciarTabuleiro(self, n):\n",
    "        for i in range(n):\n",
    "            linha = []\n",
    "            for j in range(n):\n",
    "                novo_no = No()\n",
    "                linha.append(novo_no)\n",
    "            self.matriz.append(linha)\n",
    "\n",
    "\n",
    "    def printTabuleiro(self,):\n",
    "        for linha in self.matriz:\n",
    "            for elemento in linha:\n",
    "                cor = cores[elemento.cor]\n",
    "                print(cor + str(elemento) + Style.RESET_ALL, end=' ')\n",
    "            print()\n",
    "\n",
    "    def inserirNoPorCoordenada(self, coordenada, valor, cor):\n",
    "        novoNo = No()\n",
    "        novoNo.cor = cor\n",
    "        novoNo.valor = valor\n",
    "        novoNo.score = 0\n",
    "        # O que seria o score??\n",
    "        linhaParaInserir, colunaParaInserir = self.getNoPorCoordenadas(coordenada)\n",
    "        self.matriz[linhaParaInserir][colunaParaInserir] = novoNo\n",
    "\n",
    "    def getNoPorCoordenadas(self, coordenada):\n",
    "        linhaParaInserir = (coordenada // 10) - 1 # divide por 10 pra pegar a dezena\n",
    "        colunaParaInserir = (coordenada % 10) - 1 # obtém o resto da divisão por 10 para pegar a unidade\n",
    "        return linhaParaInserir, colunaParaInserir\n",
    "\n",
    "    def hasPosicaoVazio(self, coordenada):\n",
    "        pass #TODO: Retorna true se o nó estiver vazio. (utilizar a função getNoPorCoordenadas())\n",
    "        linhaParaInserir, colunaParaInserir = self.getNoPorCoordenadas(coordenada)\n",
    "        if self.matriz[linhaParaInserir][colunaParaInserir].valor is None:\n",
    "            return True\n",
    "        else:\n",
    "            return False\n",
    "\n",
    "\n"
   ]
  },
  {
   "cell_type": "code",
   "execution_count": 5,
   "metadata": {},
   "outputs": [],
   "source": [
    "class Game:\n",
    "    rodada = 1\n",
    "    tabuleiro = Tabuleiro()\n",
    "    # TODO: Continuar logica aleatória do servidor.\n",
    "    def __int__(self):\n",
    "        entrada = sys.stdin.readline()\n",
    "        if entrada.strip() == \"A\":\n",
    "            while True:\n",
    "                if self._getAcaoPorRodada() != 'deslizar':\n",
    "                    coordenada = self._getCordenadaAleatoria()\n",
    "                    while not tabuleiro.hasPosicaoVazio(coordenada):\n",
    "                        coordenada = self._getCordenadaAleatoria()\n",
    "                    tabuleiro.inserirNoPorCoordenada(coordenada, VALOR_INICIAL_NO, self._getAcaoPorRodada())\n",
    "                    sys.stdout.write(coordenada) # TODO: Revisar isso\n",
    "                else:\n",
    "                    comandoDeDeslize = random.choice(list(MOVIMENTOS_DO_JOGO.keys()))\n",
    "                    sys.stdout.write(comandoDeDeslize)\n",
    "                    self.rodada += 1\n",
    "                    entrada = sys.stdin.readline()\n",
    "        tabuleiro.printTabuleiro()\n",
    "\n",
    "    def _getAcaoPorRodada(self):\n",
    "        return RITMO_DO_JOGO[(self.rodada - 1) % len(RITMO_DO_JOGO)]\n",
    "\n",
    "    def _getCordenadaAleatoria(self):\n",
    "        random.choice(CORDENADAS_TABULEIRO)"
   ]
  },
  {
   "cell_type": "code",
   "execution_count": 6,
   "metadata": {},
   "outputs": [],
   "source": [
    "#!/usr/bin/env python3\n",
    "# if __name__ == \"__main__\":\n",
    "#     # TODO: Aqui o jogo será iniciado...\n",
    "\n"
   ]
  },
  {
   "cell_type": "code",
   "execution_count": 7,
   "metadata": {},
   "outputs": [
    {
     "name": "stdout",
     "output_type": "stream",
     "text": [
      "\u001B[47m  \u001B[0m \u001B[47m  \u001B[0m \u001B[47m  \u001B[0m \u001B[47m  \u001B[0m \n",
      "\u001B[47m  \u001B[0m \u001B[47m  \u001B[0m \u001B[47m  \u001B[0m \u001B[47m  \u001B[0m \n",
      "\u001B[47m  \u001B[0m \u001B[47m  \u001B[0m \u001B[47m  \u001B[0m \u001B[47m  \u001B[0m \n",
      "\u001B[47m  \u001B[0m \u001B[47m  \u001B[0m \u001B[47m  \u001B[0m \u001B[47m  \u001B[0m \n",
      "\u001B[47m  \u001B[0m \u001B[47m  \u001B[0m \u001B[47m  \u001B[0m \u001B[47m  \u001B[0m \n",
      "\u001B[47m  \u001B[0m \u001B[47m  \u001B[0m \u001B[47m  \u001B[0m \u001B[47m  \u001B[0m \n",
      "\u001B[47m  \u001B[0m \u001B[47m  \u001B[0m \u001B[47m  \u001B[0m \u001B[47m  \u001B[0m \n",
      "\u001B[47m  \u001B[0m \u001B[47m  \u001B[0m \u001B[47m  \u001B[0m \u001B[47m  \u001B[0m \n"
     ]
    }
   ],
   "source": [
    "tabuleiro = Tabuleiro()\n",
    "tabuleiro.printTabuleiro()"
   ]
  }
 ],
 "metadata": {
  "kernelspec": {
   "display_name": "Python 3 (ipykernel)",
   "language": "python",
   "name": "python3"
  },
  "language_info": {
   "codemirror_mode": {
    "name": "ipython",
    "version": 3
   },
   "file_extension": ".py",
   "mimetype": "text/x-python",
   "name": "python",
   "nbconvert_exporter": "python",
   "pygments_lexer": "ipython3",
   "version": "3.10.6"
  }
 },
 "nbformat": 4,
 "nbformat_minor": 1
}
