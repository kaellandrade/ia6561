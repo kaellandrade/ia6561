{
 "cells": [
  {
   "cell_type": "code",
   "execution_count": 1,
   "metadata": {},
   "outputs": [],
   "source": [
    "import numpy as np\n",
    "from random import *"
   ]
  },
  {
   "cell_type": "markdown",
   "metadata": {},
   "source": [
    "# Set up environment"
   ]
  },
  {
   "cell_type": "code",
   "execution_count": 3,
   "metadata": {},
   "outputs": [],
   "source": [
    "####################\n",
    "# Helper Functions #\n",
    "####################\n",
    "\n",
    "def accumulate(fn, initial, seq):\n",
    "    if not seq:\n",
    "        return initial\n",
    "    else:\n",
    "        return fn(seq[0], \n",
    "                  accumulate(fn, initial, seq[1:]))\n",
    "    \n",
    "def flatten(mat):\n",
    "    return [num for row in mat for num in row]\n",
    "\n",
    "def has_zero(mat):\n",
    "    return 0 in flatten(mat)\n",
    "\n",
    "def transpose(mat):\n",
    "    return list(map(list,zip(*mat)))\n",
    "\n",
    "# Before Transpose:\n",
    "# 1 2 3 4\n",
    "# 5 6 7 8\n",
    "# 9 10 11 12\n",
    "# 13 14 15 16\n",
    "\n",
    "# After Transpose\n",
    "# 1 5 9 13\n",
    "# 2 6 10 14\n",
    "# 3 7 11 15\n",
    "# 4 8 12 16\n",
    "\n",
    "\n",
    "def reverse(mat):\n",
    "    return list(map(lambda row: list(reversed(row)),mat))\n",
    "\n",
    "# Before Reverse:\n",
    "# 1 2 3 4\n",
    "# 5 6 7 8\n",
    "# 9 10 11 12\n",
    "# 13 14 15 16\n",
    "\n",
    "# After Reverse\n",
    "# 4 3 2 1\n",
    "# 8 7 6 5\n",
    "# 12 11 10 9\n",
    "# 16 15 14 13\n",
    "\n",
    "\n",
    "###################\n",
    "# Game Matrix ADT #\n",
    "###################\n",
    "\n",
    "def new_game_matrix(n):\n",
    "    matrix = []\n",
    "    for i in range(n):\n",
    "        matrix.append([0] * n)\n",
    "    return matrix\n",
    "\n",
    "\n",
    "def add_two(mat):\n",
    "    if not has_zero(mat):\n",
    "        return mat\n",
    "    a = randint(0, len(mat)-1)\n",
    "    b = randint(0, len(mat)-1)\n",
    "    while mat[a][b] != 0:\n",
    "        a = randint(0, len(mat)-1)\n",
    "        b = randint(0, len(mat)-1)\n",
    "    mat[a][b] = 2\n",
    "    return mat\n",
    "\n",
    "def game_status(mat):\n",
    "#     for row in mat:\n",
    "#         for element in row:\n",
    "#             if element == 8192:\n",
    "#                 return 'win'\n",
    "\n",
    "    if has_zero(mat):\n",
    "        return 'not over'\n",
    "    for i in range(len(mat)): #Check horizontally\n",
    "        for j in range(len(mat[0])-1):\n",
    "            if mat[i][j] == mat[i][j+1]:\n",
    "                return 'not over'\n",
    "    for i in range(len(mat)-1): #Check vertically\n",
    "        for j in range(len(mat[0])):\n",
    "            if mat[i][j] == mat[i+1][j]:\n",
    "                return 'not over'\n",
    "    return 'lose'\n",
    "\n",
    "def merge_left(matrix):\n",
    "    def merge_row(row):\n",
    "        merged_row, prev_tile, score_increment = [], 0, 0\n",
    "        # pack element by element left-wards\n",
    "        for tile in row:\n",
    "            if tile == 0: continue\n",
    "            if prev_tile == 0:\n",
    "                prev_tile = tile\n",
    "            elif prev_tile != tile:\n",
    "                merged_row.append(prev_tile)\n",
    "                prev_tile = tile\n",
    "            else:\n",
    "                merged_row.append(prev_tile*2)\n",
    "                score_increment += prev_tile*2\n",
    "                prev_tile = 0\n",
    "        merged_row.append(prev_tile) # valid regardless whether there are merges or not\n",
    "        # top up zeros\n",
    "        while len(merged_row) != len(row):\n",
    "            merged_row.append(0)\n",
    "        return (merged_row, merged_row != row, score_increment)\n",
    "\n",
    "    return accumulate(lambda first, rest: ([first[0]] + rest[0], \n",
    "                                            first[1] or rest[1], \n",
    "                                            first[2] + rest[2]),\n",
    "                      ([], False, 0),\n",
    "                      list(map(merge_row, matrix)))\n",
    "\n",
    "def merge_right(mat):\n",
    "    mat, valid, score = merge_left(reverse(mat))\n",
    "    return (reverse(mat), valid, score)\n",
    "\n",
    "def merge_up(mat):\n",
    "    mat, valid, score = merge_left(transpose(mat))\n",
    "    return (transpose(mat), valid, score)\n",
    "\n",
    "def merge_down(mat):\n",
    "    mat, valid, score = merge_left(reverse(transpose(mat)))\n",
    "    return (transpose(reverse(mat)), valid, score)\n",
    "\n",
    "\n",
    "###################\n",
    "# Game Record ADT #\n",
    "###################\n",
    "                \n",
    "def make_new_record(mat, score):\n",
    "    return (mat, score)\n",
    "def get_record_matrix(record):\n",
    "    return record[0]\n",
    "def get_record_score(record):\n",
    "    return record[1]\n",
    "\n",
    "\n",
    "####################\n",
    "# Game Records ADT #\n",
    "####################\n",
    "\n",
    "def new_records():\n",
    "    return []\n",
    "def add_record(new_record, records):\n",
    "    NUM_OF_UNDOS = 3\n",
    "    records.append(new_record)\n",
    "    if num_of_records(records) > NUM_OF_UNDOS:\n",
    "        records = records[-NUM_OF_UNDOS:]\n",
    "    return records\n",
    "def num_of_records(records):\n",
    "    return len(records)\n",
    "def is_empty(records):\n",
    "    return num_of_records(records) <= 0\n",
    "def pop_last_record(records):\n",
    "    if not is_empty(records):\n",
    "        last_record = records.pop()\n",
    "        return (get_record_matrix(last_record),\n",
    "                get_record_score(last_record),\n",
    "                records)\n",
    "    else:\n",
    "        return (None, None, records)\n",
    "\n",
    "##################\n",
    "# Game State ADT #\n",
    "##################\n",
    "\n",
    "def make_state(matrix, total_score, history):\n",
    "    return (matrix, total_score, history)\n",
    "def get_matrix(state):\n",
    "    return state[0]\n",
    "def get_score(state):\n",
    "    return state[1]\n",
    "def get_history(state):\n",
    "    return state[2]\n",
    "def make_new_game(n):\n",
    "    starting_matrix = add_two(add_two(new_game_matrix(n)))\n",
    "    return make_state(starting_matrix, 0, new_records())\n",
    "\n",
    "def execute_move(state, matrix_updater):   \n",
    "    current_score = get_score(state)\n",
    "    next_matrix, valid_move, score_increment = matrix_updater(get_matrix(state))\n",
    "    if not valid_move:\n",
    "        return (state, False)\n",
    "    else:\n",
    "        updated_history = ()\n",
    "        updated_state = make_state(add_two(next_matrix),\n",
    "                                   current_score + score_increment,\n",
    "                                   updated_history)\n",
    "        return (updated_state, True)\n",
    "def left(state):\n",
    "    return execute_move(state, merge_left)\n",
    "def right(state):\n",
    "    return execute_move(state, merge_right)\n",
    "def up(state):\n",
    "    return execute_move(state, merge_up)\n",
    "def down(state):\n",
    "    return execute_move(state, merge_down)\n",
    "\n",
    "def undo(state):\n",
    "    records = get_history(state)\n",
    "    matrix, score, records = pop_last_record(records)\n",
    "    if matrix:\n",
    "        return (make_state(matrix, score, records), True)\n",
    "    else:\n",
    "        return (state, False)    \n",
    "\n",
    "game_logic = {\n",
    "    'make_new_game': make_new_game,\n",
    "    'game_status': game_status,\n",
    "    'get_score': get_score,\n",
    "    'get_matrix': get_matrix,\n",
    "    'up': up,\n",
    "    'down': down,\n",
    "    'left': left,\n",
    "    'right': right,\n",
    "    'undo': undo\n",
    "}"
   ]
  },
  {
   "cell_type": "markdown",
   "metadata": {},
   "source": [
    "# Random AI"
   ]
  },
  {
   "cell_type": "code",
   "execution_count": 4,
   "metadata": {},
   "outputs": [],
   "source": [
    "def random_move(current_state):\n",
    "    index = np.random.randint(4)\n",
    "    return [\"up\", \"down\", \"left\", \"right\"][index]"
   ]
  },
  {
   "cell_type": "code",
   "execution_count": 5,
   "metadata": {},
   "outputs": [],
   "source": [
    "import seaborn as sns\n",
    "import matplotlib.pyplot as plt\n",
    "\n",
    "def printboardstate(boardstate):\n",
    "    mat, score, _ = boardstate\n",
    "    sns.heatmap(mat, annot = True, \n",
    "            square = True, cbar = False, cmap = 'YlOrBr', fmt = 'd')\n",
    "    plt.title('Game State with Score ' + str(score))\n",
    "    plt.axis('off')\n",
    "    plt.show()"
   ]
  },
  {
   "cell_type": "code",
   "execution_count": 7,
   "metadata": {},
   "outputs": [
    {
     "name": "stdout",
     "output_type": "stream",
     "text": [
      "Initial state:\n"
     ]
    },
    {
     "data": {
      "text/plain": "<Figure size 640x480 with 1 Axes>",
      "image/png": "[encoded data removed]"
     },
     "metadata": {},
     "output_type": "display_data"
    },
    {
     "name": "stdout",
     "output_type": "stream",
     "text": [
      "Final state:\n"
     ]
    },
    {
     "data": {
      "text/plain": "<Figure size 640x480 with 1 Axes>",
      "image/png": "[encoded data removed]"
     },
     "metadata": {},
     "output_type": "display_data"
    }
   ],
   "source": [
    "current_state = make_new_game(4)\n",
    "\n",
    "print('Initial state:')\n",
    "printboardstate(current_state)\n",
    "\n",
    "while game_status(get_matrix(current_state)) == \"not over\":\n",
    "    best_move = random_move(current_state)\n",
    "    best_move = game_logic[best_move]\n",
    "    current_state, _ = best_move(current_state)\n",
    "    \n",
    "print('Final state:')\n",
    "printboardstate(current_state)"
   ]
  },
  {
   "cell_type": "markdown",
   "metadata": {},
   "source": [
    "# Monte Carlo AI"
   ]
  },
  {
   "cell_type": "code",
   "execution_count": 46,
   "metadata": {},
   "outputs": [],
   "source": [
    "def playthrough(gamestate, num_tries, max_depth):\n",
    "    ''' Takes in a game state, and plays randomly till the end num_tries times, returns the final score '''\n",
    "    score = 0\n",
    "    for i in range(num_tries):\n",
    "        newstate = gamestate\n",
    "        depth = 0\n",
    "        while game_status(get_matrix(newstate)) == \"not over\" and depth<max_depth:\n",
    "            best_move = random_move(newstate)\n",
    "            best_move = game_logic[best_move]\n",
    "            newstate, _ = best_move(newstate)\n",
    "            \n",
    "            depth += 1\n",
    "        score += newstate[1] - gamestate[1]\n",
    "    \n",
    "    return score/num_tries"
   ]
  },
  {
   "cell_type": "code",
   "execution_count": 47,
   "metadata": {},
   "outputs": [
    {
     "name": "stdout",
     "output_type": "stream",
     "text": [
      "Initial state:\n"
     ]
    },
    {
     "data": {
      "image/png": "[encoded data removed]",
      "text/plain": [
       "<Figure size 640x480 with 1 Axes>"
      ]
     },
     "metadata": {},
     "output_type": "display_data"
    },
    {
     "name": "stdout",
     "output_type": "stream",
     "text": [
      "Score:\n",
      "0 0 4 4 8 12 20 24 24 24 24 24 24 28 40 44 44 48 52 68 84 88 88 92 100 104 108 108 112 120 124 124 124 124 124 124 128 136 152 192 240 244 292 292 296 296 300 304 312 312 312 312 316 316 320 320 336 344 348 348 348 352 360 380 384 384 388 396 400 400 480 480 496 496 516 548 560 576 608 608 612 620 624 628 636 636 640 640 644 712 736 740 748 748 752 752 756 760 912 912 912 916 916 916 920 936 940 948 1004 1008 1028 1036 1040 1040 1072 1072 1072 1172 1172 1172 1176 1176 1180 1192 1192 1196 1220 1240 1248 1264 1268 1268 1304 1320 1356 1424 1560 1560 1564 1568 1568 1568 1568 1572 1580 1584 1584 1600 1616 1620 1624 1624 1624 1628 1628 1632 1640 1644 1668 1668 1668 1668 1672 1700 1704 1704 1704 1704 1736 1736 1736 1736 1744 1784 1800 1800 1804 1804 2084 2092 2124 2128 2128 2128 2128 2132 2144 2144 2236 2236 2244 2252 2260 2264 2272 2276 2280 2284 2328 2360 2392 2392 2392 2396 2396 2400 2408 2408 2412 2416 2424 2424 2428 2440 2456 2460 2460 2460 2464 2532 2540 2556 2556 2560 2708 2716 2720 2720 2744 2744 2744 2748 2800 2800 2804 2812 2812 2816 2816 2816 2868 2876 2876 2876 2876 2876 2880 2956 2956 2960 2968 2988 2992 2992 2992 2996 3008 3016 3020 3024 3032 3048 3052 3056 3080 3080 3080 3100 3132 3136 3168 3180 3248 3392 3392 3396 3404 3408 3412 3416 3416 3416 3416 3696 3704 3708 3720 3736 3736 3736 3736 3740 3748 3768 3772 3772 3772 3772 4308 4352 4392 4392 4392 4396 4396 4396 4400 4408 4412 4412 4416 4428 4436 4456 4456 4460 4460 4464 4464 4548 4556 4556 4560 4564 4568 4568 4572 4616 4620 4620 4624 4624 4624 4624 4628 4640 4640 4676 4684 4700 4732 4732 4804 4812 4812 4812 4816 4820 4960 4984 4992 5016 5036 5068 5076 5076 5080 5092 5108 5112 5144 5144 5148 5148 5152 5152 5152 5156 5168 5168 5168 5172 5172 5248 5264 5272 5272 5276 5296 5300 5300 5300 5304 5316 5316 5320 5328 5348 5348 5352 5360 5364 5416 5432 5436 5440 5440 5444 5488 5496 5496 5512 5512 5516 5580 5584 5584 5584 5588 5596 5600 5604 5744 5744 5748 5756 5756 5760 5764 6048 6048 6052 6052 6060 6060 6092 6092 6092 6112 6112 6112 6148 6148 6164 6172 6188 6200 6204 6204 6224 6224 6260 6272 6280 6280 6280 6284 6284 6288 6296 6316 6316 6316 6384 6396 6404 6420 6456 6456 6456 6456 6460 6468 6476 6476 6480 6488 6492 6496 6524 6556 6564 6568 6576 6576 6596 6596 6600 6600 6604 6668 6672 6808 6808 6828 6828 6864 6868 6876 6880 6884 6892 6892 6896 6904 6924 6932 6936 6940 6952 6972 6972 6980 6980 6984 7020 7028 7028 7048 7052 7052 7060 7064 7080 7080 7116 7116 7120 7196 7204 7204 7204 7208 7220 7220 7244 7284 7284 7288 7292 7300 7300 7320 7332 7348 7352 7384 7384 7388 7392 7392 7392 7468 7468 7484 7488 7488 7492 7628 7628 7632 7636 7644 7648 7660 7684 7700 7736 7736 7736 7736 7740 7748 7752 7756 8020 8028 8032 8096 8100 8108 8624 8624 8632 8648 8648 8652 8656 8656 8660 9704 9720 9724 9724 9724 9728 9736 9740 9740 9792 9800 9828 9832 9868 9936 9936 9940 9948 9948 9948 9952 9960 9960 9964 9964 9964 9968 10104 10104 10108 10108 10136 10160 10196 10204 10204 10220 10224 10224 10224 10228 10236 10240 10240 10244 10292 10300 10300 10300 10304 10304 10404 10404 10404 10404 10408 10412 10420 10444 10444 10444 10448 10456 10456 10460 10464 10508 10532 10536 10548 10552 10568 10600 10604 10604 10616 10696 10708 10724 10852 10852 10852 10852 10856 10856 10856 10860 10872 10872 10876 10876 11176 11184 11184 11184 11188 11192 11192 11196 11216 11224 11228 11228 11248 11256 11272 11280 11284 11304 11316 11316 11316 11320 11320 11344 11344 11344 11376 11380 11388 11388 11388 11392 11396 11472 11484 11484 11484 11484 11488 11548 11548 11548 11552 11552 11564 11584 11592 11592 11592 11600 11608 11612 11652 11652 11660 11660 11672 11676 11700 11716 11752 11816 11816 11816 11816 11816 11820 11824 11968 11976 12000 12000 12020 12020 12056 12064 12064 12068 12068 12068 12076 12084 12088 12088 12092 12092 12180 12188 12200 12208 12224 12228 12232 12232 12232 12232 12232 12236 12248 12248 12268 12300 12300 12308 12316 12332 12336 12376 12376 12380 12384 12384 12388 12460 12464 12464 12468 12496 12516 12532 12568 12568 12700 12708 12712 12712 12712 12716 12984 12984 12984 12984 12988 13000 13000 13000 13000 13520 13524 13540 13576 13576 13580 13588 13588 13588 13588 13592 13628 13628 13628 13632 13640 13644 13716 13724 13752 13752 13772 13772 13776 13788 13812 13828 13832 13832 13832 13832 13832 13836 13844 13848 13852 13896 13912 13916 13948 13948 14016 14024 14028 14032 14036 14036 14036 14036 14168 14168 14176 14180 14200 14208 14208 14212 14220 14224 14268 14272 14272 14284 14308 14324 14328 14328 14328 14332 14340 14376 14376 14380 14384 14392 14396 14396 14400 14492 14492 14496 14496 14508 14516 14532 14532 14536 14548 14564 14564 14564 14568 14572 14612 14612 14628 14628 14632 14632 14636 14640 14652 14660 14676 14676 14680 14700 14708 14708 14712 14716 14720 Final state:\n"
     ]
    },
    {
     "data": {
      "image/png": "[encoded data removed]",
      "text/plain": [
       "<Figure size 640x480 with 1 Axes>"
      ]
     },
     "metadata": {},
     "output_type": "display_data"
    }
   ],
   "source": [
    "initial_state = make_new_game(4)\n",
    "# initial_state = ([[0, 0, 0, 0], [8, 2, 0, 0], [4, 0, 0, 0], [4, 64, 8, 2]], 348, ())\n",
    "\n",
    "print('Initial state:')\n",
    "printboardstate(initial_state)\n",
    "\n",
    "num_tries = 200\n",
    "max_depth = 8\n",
    "    \n",
    "current_state = initial_state\n",
    "print('Score:')\n",
    "while game_status(get_matrix(current_state)) == \"not over\":\n",
    "    # Only evaluate for valid moves\n",
    "    bestscore = -1\n",
    "    bestmove = \"\"\n",
    "    \n",
    "    for move in ['up', 'down', 'left', 'right']:\n",
    "        _, valid = game_logic[move](current_state)\n",
    "        if not valid: continue\n",
    "        \n",
    "        # perform monte carlo simulation for each of the valid moves\n",
    "        montecarlo_state, _ = game_logic[move](current_state)\n",
    "        montecarlo_score = playthrough(montecarlo_state, num_tries, max_depth)\n",
    "        if montecarlo_score > bestscore:\n",
    "            bestscore = montecarlo_score\n",
    "            bestmove = move\n",
    "    \n",
    "    # do the move with the highest score\n",
    "    current_state, _ = game_logic[bestmove](current_state)\n",
    "    \n",
    "#     print('Best move:', bestmove, 'Score:', current_state[1])\n",
    "    print(current_state[1], end = ' ')\n",
    "    \n",
    "print('Final state:')\n",
    "printboardstate(current_state)\n"
   ]
  },
  {
   "cell_type": "markdown",
   "metadata": {},
   "source": [
    "# Monte Carlo Tree Search based AI"
   ]
  },
  {
   "cell_type": "code",
   "execution_count": 8,
   "metadata": {},
   "outputs": [
    {
     "name": "stdout",
     "output_type": "stream",
     "text": [
      "Initial state:\n"
     ]
    },
    {
     "data": {
      "text/plain": "<Figure size 640x480 with 1 Axes>",
      "image/png": "[encoded data removed]"
     },
     "metadata": {},
     "output_type": "display_data"
    },
    {
     "name": "stdout",
     "output_type": "stream",
     "text": [
      "Score:\n"
     ]
    },
    {
     "ename": "NameError",
     "evalue": "name 'playthrough' is not defined",
     "output_type": "error",
     "traceback": [
      "\u001B[0;31m---------------------------------------------------------------------------\u001B[0m",
      "\u001B[0;31mNameError\u001B[0m                                 Traceback (most recent call last)",
      "Cell \u001B[0;32mIn[8], line 43\u001B[0m\n\u001B[1;32m     40\u001B[0m \u001B[38;5;28;01mfor\u001B[39;00m tries \u001B[38;5;129;01min\u001B[39;00m \u001B[38;5;28mrange\u001B[39m(initial_tries):\n\u001B[1;32m     41\u001B[0m     \u001B[38;5;66;03m# perform monte carlo simulation for that move\u001B[39;00m\n\u001B[1;32m     42\u001B[0m     montecarlo_state, _ \u001B[38;5;241m=\u001B[39m game_logic[move](current_state)\n\u001B[0;32m---> 43\u001B[0m     montecarlo_score \u001B[38;5;241m=\u001B[39m \u001B[43mplaythrough\u001B[49m(montecarlo_state, \u001B[38;5;241m1\u001B[39m, max_depth)\n\u001B[1;32m     45\u001B[0m     \u001B[38;5;66;03m# add the score and tries to the action node\u001B[39;00m\n\u001B[1;32m     46\u001B[0m     maxindex \u001B[38;5;241m=\u001B[39m movetoindex[move]\n",
      "\u001B[0;31mNameError\u001B[0m: name 'playthrough' is not defined"
     ]
    }
   ],
   "source": [
    "initial_state = make_new_game(4)\n",
    "\n",
    "print('Initial state:')\n",
    "printboardstate(initial_state)\n",
    "\n",
    "debug = False\n",
    "\n",
    "initial_tries = 20\n",
    "num_tries = 20\n",
    "max_depth = 15\n",
    "\n",
    "indextomove = {0: 'up', 1: 'down', 2: 'left', 3: 'right'}\n",
    "movetoindex = {'up': 0, 'down': 1, 'left': 2, 'right': 3}\n",
    "    \n",
    "current_state = initial_state\n",
    "print('Score:')\n",
    "while game_status(get_matrix(current_state)) == \"not over\":\n",
    "    # Only evaluate for valid moves\n",
    "    bestscore = -1\n",
    "    bestmove = \"\"\n",
    "    validmoves = []\n",
    "    \n",
    "    action_score = np.array([0, 0, 0, 0])\n",
    "    action_tries = np.array([0, 0, 0, 0])\n",
    "    \n",
    "    exploration_tries, exploration_score = 0, 0\n",
    "    \n",
    "    maxscore = 0\n",
    "    \n",
    "    for move in ['up', 'down', 'left', 'right']:\n",
    "        _, valid = game_logic[move](current_state)\n",
    "        if valid: validmoves.append(move)\n",
    "        # if not valid, still increment the initial tries variable for that move to avoid division by 0\n",
    "        else: \n",
    "            action_tries[movetoindex[move]] = initial_tries\n",
    "            action_score[movetoindex[move]] = -1000000\n",
    "            continue\n",
    "        \n",
    "        # do an initial exploration of each valid move\n",
    "        for tries in range(initial_tries):\n",
    "            # perform monte carlo simulation for that move\n",
    "            montecarlo_state, _ = game_logic[move](current_state)\n",
    "            montecarlo_score = playthrough(montecarlo_state, 1, max_depth)\n",
    "\n",
    "            # add the score and tries to the action node\n",
    "            maxindex = movetoindex[move]\n",
    "            action_tries[maxindex] += 1\n",
    "            action_score[maxindex] += montecarlo_score\n",
    "            \n",
    "            exploration_tries += 1\n",
    "            exploration_score += montecarlo_score\n",
    "    \n",
    "    # we peg the exploration constant to the average montecarlo score of the initial trials\n",
    "    c = exploration_score/exploration_tries\n",
    "#     c = 10\n",
    "            \n",
    "    for totaltries in range(num_tries):\n",
    "        \n",
    "        # perform an explore-exploit tradeoff calculation to find out which move to go first\n",
    "        action_heuristic = action_score/action_tries + c*np.sqrt(np.log(totaltries+1)/action_tries)\n",
    "        \n",
    "#         print(action_heuristic)\n",
    "#         print(np.sqrt((totaltries+1)/action_tries))\n",
    "#         print('Exploration',c*np.sqrt(np.log(totaltries+1)/action_tries))\n",
    "        \n",
    "        maxindex = np.argmax(action_heuristic)        \n",
    "        move = indextomove[maxindex]\n",
    "        \n",
    "        # perform monte carlo simulation for that move\n",
    "        montecarlo_state, _ = game_logic[move](current_state)\n",
    "        montecarlo_score = playthrough(montecarlo_state, 1, max_depth)\n",
    "        \n",
    "        # add the score and tries to the action node\n",
    "        action_tries[maxindex] += 1\n",
    "        action_score[maxindex] += montecarlo_score\n",
    "        \n",
    "        \n",
    "    if debug:\n",
    "        print('Exploration Factor', c)\n",
    "        print('Number of tries', action_tries)\n",
    "        print('Average score', action_score/action_tries)\n",
    "\n",
    "        \n",
    "    # best move is the highest score\n",
    "#     bestmoveindex = np.where(action_tries == max(action_tries))[0][0]\n",
    "    bestmoveindex = np.argmax(action_score/action_tries)\n",
    "    bestmove = indextomove[bestmoveindex]\n",
    "    \n",
    "    # do the move with the highest score\n",
    "    current_state, _ = game_logic[bestmove](current_state)\n",
    "    \n",
    "    if debug:\n",
    "        print('Best move:', bestmove)\n",
    "    print(current_state[1], end = ' ')\n",
    "\n",
    "print('Final state:')\n",
    "printboardstate(current_state)"
   ]
  },
  {
   "cell_type": "code",
   "execution_count": null,
   "metadata": {},
   "outputs": [],
   "source": []
  },
  {
   "cell_type": "code",
   "execution_count": null,
   "metadata": {},
   "outputs": [],
   "source": []
  },
  {
   "cell_type": "code",
   "execution_count": null,
   "metadata": {},
   "outputs": [],
   "source": []
  },
  {
   "cell_type": "code",
   "execution_count": null,
   "metadata": {},
   "outputs": [],
   "source": []
  },
  {
   "cell_type": "code",
   "execution_count": null,
   "metadata": {},
   "outputs": [],
   "source": []
  },
  {
   "cell_type": "markdown",
   "metadata": {},
   "source": [
    "# DQN"
   ]
  },
  {
   "cell_type": "code",
   "execution_count": null,
   "metadata": {},
   "outputs": [],
   "source": []
  }
 ],
 "metadata": {
  "kernelspec": {
   "display_name": "Python 3",
   "language": "python",
   "name": "python3"
  },
  "language_info": {
   "codemirror_mode": {
    "name": "ipython",
    "version": 3
   },
   "file_extension": ".py",
   "mimetype": "text/x-python",
   "name": "python",
   "nbconvert_exporter": "python",
   "pygments_lexer": "ipython3",
   "version": "3.7.6"
  }
 },
 "nbformat": 4,
 "nbformat_minor": 5
}
